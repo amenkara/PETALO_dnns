{
 "cells": [
  {
   "cell_type": "code",
   "execution_count": 16,
   "metadata": {},
   "outputs": [],
   "source": [
    "from __future__                           import print_function\n",
    "%matplotlib inline\n",
    "\n",
    "import re\n",
    "import os\n",
    "import sys\n",
    "import h5py\n",
    "\n",
    "import matplotlib.pyplot                  as plt\n",
    "import numpy                              as np\n",
    "import random                             as rd\n",
    "import tables                             as tb\n",
    "import tensorflow                         as tf\n",
    "\n",
    "from glob                                 import glob\n",
    "from matplotlib.patches                   import Ellipse\n",
    "\n",
    "\n",
    "# Keras imports\n",
    "import keras.backend.tensorflow_backend   as   K\n",
    "\n",
    "from keras                                import regularizers\n",
    "from keras                                import callbacks\n",
    "\n",
    "from keras.models                         import Model, load_model\n",
    "\n",
    "from keras.layers                         import Input, Dense, MaxPooling3D, AveragePooling3D\n",
    "from keras.layers                         import Conv3D, Conv2D, AveragePooling2D, Activation, Dropout, ZeroPadding3D\n",
    "from keras.layers                         import Add\n",
    "from keras.layers                         import Flatten, BatchNormalization\n",
    "\n",
    "from keras.layers.normalization           import BatchNormalization\n",
    "from keras.layers.convolutional           import Convolution2D, MaxPooling2D\n",
    "from keras.layers.core                    import Flatten\n",
    "\n",
    "from keras.optimizers                     import SGD, Adam, Nadam, Adadelta \n",
    "\n",
    "from keras.regularizers                   import l2, l1\n",
    "from keras.initializers                   import RandomNormal\n",
    "\n",
    "from keras.utils.layer_utils              import print_summary\n",
    "\n",
    "\n",
    "#os.environ['CUDA_DEVICE_ORDER'] = 'PCI_BUS_ID'\n",
    "#os.environ['CUDA_VISIBLE_DEVICES'] = '3'"
   ]
  },
  {
   "cell_type": "markdown",
   "metadata": {},
   "source": [
    "### Create a combined file from several .npz files"
   ]
  },
  {
   "cell_type": "code",
   "execution_count": null,
   "metadata": {
    "scrolled": true
   },
   "outputs": [],
   "source": [
    "npz_dir = \"/home/amenkara/petalo_files_26_nov/\"\n",
    "\n",
    "# input/output files\n",
    "\n",
    "files = glob(npz_dir + '*.npz')\n",
    "\n",
    "files = sorted(files)\n",
    "print(files)\n",
    "\n",
    "out_file = \"combined_file_26nov.npz\"\n",
    "\n",
    "X_    = []\n",
    "Compt_= []\n",
    "Var_  = []\n",
    "Mean_ = [] \n",
    "Ev_   = []\n",
    "\n",
    "\n",
    "for f in files:\n",
    "\n",
    "    fn = np.load(f)\n",
    "    \n",
    "    if(len(X_) == 0):\n",
    "        X_     = fn['X_train']\n",
    "        Compt_ =  fn['Compt_train']\n",
    "        Var_   =  fn['Varpos_train']\n",
    "        Mean_  =  fn['Meanpos_train']\n",
    "        Ev_    =  fn['Ev_train']\n",
    "    else:\n",
    "        X_     = np.concatenate((X_,     fn['X_train'])      )\n",
    "        Compt_ = np.concatenate((Compt_, fn['Compt_train'])  ) \n",
    "        Var_   = np.concatenate((Var_,   fn['Varpos_train']) )\n",
    "        Mean_  = np.concatenate((Mean_,  fn['Meanpos_train']))\n",
    "        Ev_    = np.concatenate((Ev_,    fn['Ev_train'])     )\n",
    "    \n",
    "print(\"Saving combined file\")\n",
    "\n",
    "np.savez(out_file,\n",
    "        X_=X_, Compt_= Compt_, Var_=Var_, Mean_=Mean_, Ev_=Ev_)"
   ]
  },
  {
   "cell_type": "markdown",
   "metadata": {},
   "source": [
    "### Load the data from the dataset"
   ]
  },
  {
   "cell_type": "code",
   "execution_count": 2,
   "metadata": {},
   "outputs": [],
   "source": [
    "out_file = \"training_set_test_pitch4mm_file0.npz\""
   ]
  },
  {
   "cell_type": "code",
   "execution_count": 3,
   "metadata": {},
   "outputs": [],
   "source": [
    "data = np.load(out_file)\n",
    "X_, Compt_, Ev_ = data['images'],data['labels'], data['event_number']"
   ]
  },
  {
   "cell_type": "code",
   "execution_count": 4,
   "metadata": {},
   "outputs": [
    {
     "data": {
      "text/plain": [
       "1011"
      ]
     },
     "execution_count": 4,
     "metadata": {},
     "output_type": "execute_result"
    }
   ],
   "source": [
    "len(X_)"
   ]
  },
  {
   "cell_type": "markdown",
   "metadata": {},
   "source": [
    "### Separate train, validation and test set"
   ]
  },
  {
   "cell_type": "code",
   "execution_count": 5,
   "metadata": {},
   "outputs": [],
   "source": [
    "train_cut = int(0.8*len(X_))\n",
    "val_cut   = int(0.9*len(X_))\n",
    "\n",
    "X_train      = X_[:train_cut]\n",
    "X_val        = X_[train_cut:val_cut] \n",
    "X_test       = X_[val_cut:]\n",
    "\n",
    "Compt_train  =  Compt_[:train_cut]\n",
    "Compt_val    =  Compt_[train_cut:val_cut]\n",
    "Compt_test   =  Compt_[val_cut:]"
   ]
  },
  {
   "cell_type": "markdown",
   "metadata": {},
   "source": [
    "### Define the model"
   ]
  },
  {
   "cell_type": "code",
   "execution_count": 6,
   "metadata": {},
   "outputs": [],
   "source": [
    "K.clear_session()"
   ]
  },
  {
   "cell_type": "code",
   "execution_count": 7,
   "metadata": {},
   "outputs": [],
   "source": [
    "def model_CNN(inputs):\n",
    "    #el 32 implica que hay 32 filtros de 5x5\n",
    "    cinputs = Conv2D(96, (5, 5), padding='same', strides=(2, 2), activation='relu', kernel_initializer='he_normal', kernel_regularizer=regularizers.l1(0.01),  activity_regularizer=regularizers.l1(0.01))(inputs)\n",
    "    cinputs = AveragePooling2D(pool_size=(2, 2), data_format=None, padding=\"same\", strides=(2, 2))(cinputs)\n",
    "    cinputs = BatchNormalization(epsilon=1e-05, axis=3, momentum=0.99, weights=None, beta_initializer='zero', gamma_initializer='one', gamma_regularizer=None, beta_regularizer=None)(cinputs)\n",
    "    cinputs = Conv2D(192, (3, 3), padding='same', strides=(1, 1), activation='relu', kernel_initializer='he_normal', kernel_regularizer=regularizers.l1(0.01),  activity_regularizer=regularizers.l1(0.01))(cinputs)\n",
    "    cinputs = Dropout(.2)(cinputs)\n",
    "    cinputs = BatchNormalization(epsilon=1e-05, axis=3, momentum=0.99, weights=None, beta_initializer='zero', gamma_initializer='one', gamma_regularizer=None, beta_regularizer=None)(cinputs)\n",
    "    cinputs = AveragePooling2D(pool_size=(2, 2), data_format=None, padding=\"same\", strides=(2, 2))(cinputs)\n",
    "    cinputs = Conv2D(384, (2, 2), padding='same', strides=(1, 1), activation='relu', kernel_initializer='he_normal', kernel_regularizer=regularizers.l1(0.01), activity_regularizer=regularizers.l1(0.01))(cinputs)\n",
    "    cinputs = Dropout(.2)(cinputs)\n",
    "    cinputs = BatchNormalization(epsilon=1e-05, axis=3, momentum=0.99, weights=None, beta_initializer='zero', gamma_initializer='one', gamma_regularizer=None, beta_regularizer=None)(cinputs)\n",
    "    cinputs = AveragePooling2D(pool_size=(2, 2), data_format=None, padding=\"same\", strides=(2, 2))(cinputs)\n",
    "    \n",
    "    f1 = Flatten()(cinputs)\n",
    "    f1 = Dense(units=64, activation='relu', kernel_initializer='he_normal')(f1)\n",
    "    #f1 = Dropout(.2)(f1)\n",
    "\n",
    "    inc_output = Dense(units=1, activation='sigmoid', kernel_initializer='lecun_normal')(f1)\n",
    "    \n",
    "    model = Model(inputs, inc_output)\n",
    "    \n",
    "    model.compile(loss='binary_crossentropy',\n",
    "                      optimizer=Nadam(lr=0.0001, beta_1=0.9, beta_2=0.999,\n",
    "                                      epsilon=1e-08, schedule_decay=0.001), metrics=['accuracy'])\n",
    "    \n",
    "    return model"
   ]
  },
  {
   "cell_type": "code",
   "execution_count": 8,
   "metadata": {},
   "outputs": [],
   "source": [
    "dim     = 30\n",
    "\n",
    "input_  = Input((dim,dim,1))\n",
    "model   = model_CNN(input_)"
   ]
  },
  {
   "cell_type": "code",
   "execution_count": 9,
   "metadata": {},
   "outputs": [
    {
     "name": "stdout",
     "output_type": "stream",
     "text": [
      "_________________________________________________________________\n",
      "Layer (type)                 Output Shape              Param #   \n",
      "=================================================================\n",
      "input_1 (InputLayer)         (None, 30, 30, 1)         0         \n",
      "_________________________________________________________________\n",
      "conv2d_1 (Conv2D)            (None, 15, 15, 96)        2496      \n",
      "_________________________________________________________________\n",
      "average_pooling2d_1 (Average (None, 8, 8, 96)          0         \n",
      "_________________________________________________________________\n",
      "batch_normalization_1 (Batch (None, 8, 8, 96)          384       \n",
      "_________________________________________________________________\n",
      "conv2d_2 (Conv2D)            (None, 8, 8, 192)         166080    \n",
      "_________________________________________________________________\n",
      "dropout_1 (Dropout)          (None, 8, 8, 192)         0         \n",
      "_________________________________________________________________\n",
      "batch_normalization_2 (Batch (None, 8, 8, 192)         768       \n",
      "_________________________________________________________________\n",
      "average_pooling2d_2 (Average (None, 4, 4, 192)         0         \n",
      "_________________________________________________________________\n",
      "conv2d_3 (Conv2D)            (None, 4, 4, 384)         295296    \n",
      "_________________________________________________________________\n",
      "dropout_2 (Dropout)          (None, 4, 4, 384)         0         \n",
      "_________________________________________________________________\n",
      "batch_normalization_3 (Batch (None, 4, 4, 384)         1536      \n",
      "_________________________________________________________________\n",
      "average_pooling2d_3 (Average (None, 2, 2, 384)         0         \n",
      "_________________________________________________________________\n",
      "flatten_1 (Flatten)          (None, 1536)              0         \n",
      "_________________________________________________________________\n",
      "dense_1 (Dense)              (None, 64)                98368     \n",
      "_________________________________________________________________\n",
      "dense_2 (Dense)              (None, 1)                 65        \n",
      "=================================================================\n",
      "Total params: 564,993\n",
      "Trainable params: 563,649\n",
      "Non-trainable params: 1,344\n",
      "_________________________________________________________________\n"
     ]
    }
   ],
   "source": [
    "model.summary()"
   ]
  },
  {
   "cell_type": "code",
   "execution_count": 10,
   "metadata": {},
   "outputs": [],
   "source": [
    "tboard = callbacks.TensorBoard(log_dir='./logs/test_file0_v1', histogram_freq=0, write_graph=True, write_images=False)"
   ]
  },
  {
   "cell_type": "markdown",
   "metadata": {},
   "source": [
    "### Training"
   ]
  },
  {
   "cell_type": "code",
   "execution_count": 11,
   "metadata": {},
   "outputs": [
    {
     "name": "stdout",
     "output_type": "stream",
     "text": [
      "Train on 808 samples, validate on 101 samples\n",
      "Epoch 1/20\n",
      "808/808 [==============================] - 3s 3ms/step - loss: 735.5822 - acc: 0.6188 - val_loss: 538.8776 - val_acc: 0.6832\n",
      "Epoch 2/20\n",
      "808/808 [==============================] - 2s 2ms/step - loss: 531.1044 - acc: 0.6696 - val_loss: 427.5538 - val_acc: 0.6733\n",
      "Epoch 3/20\n",
      "808/808 [==============================] - 2s 2ms/step - loss: 450.2987 - acc: 0.6906 - val_loss: 370.8260 - val_acc: 0.6733\n",
      "Epoch 4/20\n",
      "808/808 [==============================] - 2s 2ms/step - loss: 393.2664 - acc: 0.7005 - val_loss: 328.4942 - val_acc: 0.6733\n",
      "Epoch 5/20\n",
      "808/808 [==============================] - 2s 2ms/step - loss: 344.3921 - acc: 0.6993 - val_loss: 293.4603 - val_acc: 0.6832\n",
      "Epoch 6/20\n",
      "808/808 [==============================] - 2s 2ms/step - loss: 301.4207 - acc: 0.7030 - val_loss: 264.1526 - val_acc: 0.6832\n",
      "Epoch 7/20\n",
      "808/808 [==============================] - 2s 2ms/step - loss: 267.4056 - acc: 0.7054 - val_loss: 240.8612 - val_acc: 0.6733\n",
      "Epoch 8/20\n",
      "808/808 [==============================] - 2s 2ms/step - loss: 241.5805 - acc: 0.6955 - val_loss: 223.7761 - val_acc: 0.6931\n",
      "Epoch 9/20\n",
      "808/808 [==============================] - 2s 2ms/step - loss: 223.8068 - acc: 0.6968 - val_loss: 211.6291 - val_acc: 0.6832\n",
      "Epoch 10/20\n",
      "808/808 [==============================] - 2s 2ms/step - loss: 210.8487 - acc: 0.7017 - val_loss: 202.7125 - val_acc: 0.6733\n",
      "Epoch 11/20\n",
      "808/808 [==============================] - 2s 2ms/step - loss: 201.3467 - acc: 0.7030 - val_loss: 195.8739 - val_acc: 0.6931\n",
      "Epoch 12/20\n",
      "808/808 [==============================] - 2s 2ms/step - loss: 193.8213 - acc: 0.6955 - val_loss: 190.0809 - val_acc: 0.6931\n",
      "Epoch 13/20\n",
      "808/808 [==============================] - 2s 2ms/step - loss: 187.3957 - acc: 0.6980 - val_loss: 184.4017 - val_acc: 0.6931\n",
      "Epoch 14/20\n",
      "808/808 [==============================] - 2s 2ms/step - loss: 181.7736 - acc: 0.7116 - val_loss: 179.3394 - val_acc: 0.6832\n",
      "Epoch 15/20\n",
      "808/808 [==============================] - 2s 2ms/step - loss: 176.6711 - acc: 0.7092 - val_loss: 174.9268 - val_acc: 0.6832\n",
      "Epoch 16/20\n",
      "808/808 [==============================] - 2s 2ms/step - loss: 172.0233 - acc: 0.6993 - val_loss: 170.4851 - val_acc: 0.6832\n",
      "Epoch 17/20\n",
      "808/808 [==============================] - 2s 2ms/step - loss: 167.4030 - acc: 0.7054 - val_loss: 166.4225 - val_acc: 0.6832\n",
      "Epoch 18/20\n",
      "808/808 [==============================] - 2s 2ms/step - loss: 163.1458 - acc: 0.7104 - val_loss: 162.3546 - val_acc: 0.6733\n",
      "Epoch 19/20\n",
      "808/808 [==============================] - 2s 2ms/step - loss: 159.1386 - acc: 0.7104 - val_loss: 158.3193 - val_acc: 0.6733\n",
      "Epoch 20/20\n",
      "808/808 [==============================] - 2s 2ms/step - loss: 155.0967 - acc: 0.7116 - val_loss: 154.4906 - val_acc: 0.6733\n"
     ]
    },
    {
     "data": {
      "text/plain": [
       "<keras.callbacks.History at 0x7fb2b012bc50>"
      ]
     },
     "execution_count": 11,
     "metadata": {},
     "output_type": "execute_result"
    }
   ],
   "source": [
    "model.fit(X_train, Compt_train, batch_size=18, epochs=20, shuffle=False, callbacks=[tboard],verbose=1, validation_data=(X_val, Compt_val))"
   ]
  },
  {
   "cell_type": "code",
   "execution_count": 12,
   "metadata": {},
   "outputs": [],
   "source": [
    "prediction = model.predict(X_test, batch_size=18, verbose=0)"
   ]
  },
  {
   "cell_type": "code",
   "execution_count": 13,
   "metadata": {},
   "outputs": [
    {
     "name": "stdout",
     "output_type": "stream",
     "text": [
      "[[0.678588  ]\n",
      " [0.678588  ]\n",
      " [0.6801706 ]\n",
      " [0.678588  ]\n",
      " [0.678588  ]\n",
      " [0.6707339 ]\n",
      " [0.678588  ]\n",
      " [0.678588  ]\n",
      " [0.678588  ]\n",
      " [0.689354  ]\n",
      " [0.678588  ]\n",
      " [0.5646102 ]\n",
      " [0.678588  ]\n",
      " [0.678588  ]\n",
      " [0.678588  ]\n",
      " [0.678588  ]\n",
      " [0.678588  ]\n",
      " [0.678588  ]\n",
      " [0.678588  ]\n",
      " [0.678588  ]\n",
      " [0.678588  ]\n",
      " [0.678588  ]\n",
      " [0.678588  ]\n",
      " [0.6795197 ]\n",
      " [0.678588  ]\n",
      " [0.678588  ]\n",
      " [0.678588  ]\n",
      " [0.678588  ]\n",
      " [0.678588  ]\n",
      " [0.678588  ]\n",
      " [0.678588  ]\n",
      " [0.678588  ]\n",
      " [0.678588  ]\n",
      " [0.5942508 ]\n",
      " [0.678588  ]\n",
      " [0.67789775]\n",
      " [0.678588  ]\n",
      " [0.67336655]\n",
      " [0.678588  ]\n",
      " [0.678588  ]\n",
      " [0.6649633 ]\n",
      " [0.6781243 ]\n",
      " [0.6682466 ]\n",
      " [0.678588  ]\n",
      " [0.678588  ]\n",
      " [0.6644964 ]\n",
      " [0.678588  ]\n",
      " [0.678588  ]\n",
      " [0.678588  ]\n",
      " [0.678588  ]\n",
      " [0.6793885 ]\n",
      " [0.678588  ]\n",
      " [0.678588  ]\n",
      " [0.678588  ]\n",
      " [0.678588  ]\n",
      " [0.678588  ]\n",
      " [0.678588  ]\n",
      " [0.678588  ]\n",
      " [0.7028598 ]\n",
      " [0.678588  ]\n",
      " [0.678588  ]\n",
      " [0.6786005 ]\n",
      " [0.678588  ]\n",
      " [0.678588  ]\n",
      " [0.678588  ]\n",
      " [0.678588  ]\n",
      " [0.678588  ]\n",
      " [0.677392  ]\n",
      " [0.678588  ]\n",
      " [0.678588  ]\n",
      " [0.9205143 ]\n",
      " [0.678588  ]\n",
      " [0.67820555]\n",
      " [0.678588  ]\n",
      " [0.678588  ]\n",
      " [0.678588  ]\n",
      " [0.6484094 ]\n",
      " [0.78746486]\n",
      " [0.7229219 ]\n",
      " [0.678588  ]\n",
      " [0.678588  ]\n",
      " [0.678588  ]\n",
      " [0.678588  ]\n",
      " [0.678588  ]\n",
      " [0.678588  ]\n",
      " [0.678588  ]\n",
      " [0.678588  ]\n",
      " [0.678588  ]\n",
      " [0.678588  ]\n",
      " [0.678588  ]\n",
      " [0.6805961 ]\n",
      " [0.678588  ]\n",
      " [0.678588  ]\n",
      " [0.678588  ]\n",
      " [0.62028766]\n",
      " [0.67782336]\n",
      " [0.68011886]\n",
      " [0.6386751 ]\n",
      " [0.678588  ]\n",
      " [0.678588  ]\n",
      " [0.678588  ]\n",
      " [0.6791997 ]]\n"
     ]
    }
   ],
   "source": [
    "print(prediction)"
   ]
  },
  {
   "cell_type": "code",
   "execution_count": null,
   "metadata": {},
   "outputs": [],
   "source": [
    "def plot_result(cut):\n",
    "    elements = []\n",
    "    for element in prediction:\n",
    "        if element > cut:\n",
    "            elements.append(0)\n",
    "        else:\n",
    "            elements.append(1)\n",
    "        \n",
    "    aciertos = 0\n",
    "    total = len(elements)\n",
    "    for i in range(total):\n",
    "        if elements[i]== Compt_test[i]:\n",
    "            aciertos += 1\n",
    "        \n",
    "    print(aciertos)    \n",
    "    return aciertos/total"
   ]
  },
  {
   "cell_type": "code",
   "execution_count": null,
   "metadata": {},
   "outputs": [],
   "source": [
    "matrix = []\n",
    "for i in range(500, 1000):\n",
    "    matrix.append([i/1000., plot_result(i/1000.)])\n",
    "        "
   ]
  },
  {
   "cell_type": "code",
   "execution_count": null,
   "metadata": {},
   "outputs": [],
   "source": [
    "np.transpose(matrix)[1]"
   ]
  },
  {
   "cell_type": "code",
   "execution_count": null,
   "metadata": {},
   "outputs": [],
   "source": [
    "plt.plot(np.transpose(matrix)[0][:], np.transpose(matrix)[1][:])"
   ]
  },
  {
   "cell_type": "code",
   "execution_count": null,
   "metadata": {},
   "outputs": [],
   "source": [
    "score = []\n"
   ]
  },
  {
   "cell_type": "code",
   "execution_count": 18,
   "metadata": {},
   "outputs": [
    {
     "name": "stdout",
     "output_type": "stream",
     "text": [
      "102/102 [==============================] - 0s 2ms/step\n"
     ]
    },
    {
     "data": {
      "text/plain": [
       "[156.75977310479857, 0.6372549025451436]"
      ]
     },
     "execution_count": 18,
     "metadata": {},
     "output_type": "execute_result"
    }
   ],
   "source": [
    "model.evaluate(x=X_test, y=Compt_test, batch_size=None, verbose=1, sample_weight=None, steps=None)"
   ]
  },
  {
   "cell_type": "code",
   "execution_count": null,
   "metadata": {},
   "outputs": [],
   "source": []
  }
 ],
 "metadata": {
  "kernelspec": {
   "display_name": "Python 3",
   "language": "python",
   "name": "python3"
  },
  "language_info": {
   "codemirror_mode": {
    "name": "ipython",
    "version": 3
   },
   "file_extension": ".py",
   "mimetype": "text/x-python",
   "name": "python",
   "nbconvert_exporter": "python",
   "pygments_lexer": "ipython3",
   "version": "3.6.6"
  }
 },
 "nbformat": 4,
 "nbformat_minor": 2
}
