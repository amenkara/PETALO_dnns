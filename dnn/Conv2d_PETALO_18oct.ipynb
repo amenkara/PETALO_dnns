{
 "cells": [
  {
   "cell_type": "code",
   "execution_count": 1,
   "metadata": {},
   "outputs": [
    {
     "name": "stderr",
     "output_type": "stream",
     "text": [
      "Using TensorFlow backend.\n"
     ]
    }
   ],
   "source": [
    "from __future__                           import print_function\n",
    "%matplotlib inline\n",
    "\n",
    "import re\n",
    "import os\n",
    "import sys\n",
    "import h5py\n",
    "\n",
    "import matplotlib.pyplot                  as plt\n",
    "import numpy                              as np\n",
    "import random                             as rd\n",
    "import tables                             as tb\n",
    "import tensorflow                         as tf\n",
    "\n",
    "from glob                                 import glob\n",
    "from matplotlib.patches                   import Ellipse\n",
    "\n",
    "\n",
    "# Keras imports\n",
    "import keras.backend.tensorflow_backend   as   K\n",
    "\n",
    "from keras                                import regularizers\n",
    "from keras                                import callbacks\n",
    "\n",
    "from keras.models                         import Model, load_model\n",
    "\n",
    "from keras.layers                         import Input, Dense, MaxPooling3D, AveragePooling3D\n",
    "from keras.layers                         import Conv3D, Conv2D, AveragePooling2D, Activation, Dropout, ZeroPadding3D\n",
    "from keras.layers                         import Add\n",
    "from keras.layers                         import Flatten, BatchNormalization\n",
    "\n",
    "from keras.layers.normalization           import BatchNormalization\n",
    "from keras.layers.convolutional           import Convolution2D, MaxPooling2D\n",
    "from keras.layers.core                    import Flatten\n",
    "\n",
    "from keras.optimizers                     import SGD, Adam, Nadam, Adadelta \n",
    "\n",
    "from keras.regularizers                   import l2, l1\n",
    "from keras.initializers                   import RandomNormal\n",
    "\n",
    "from keras.utils.layer_utils              import print_summary\n",
    "\n",
    "\n",
    "os.environ['CUDA_DEVICE_ORDER'] = 'PCI_BUS_ID'\n",
    "os.environ['CUDA_VISIBLE_DEVICES'] = '3'"
   ]
  },
  {
   "cell_type": "markdown",
   "metadata": {},
   "source": [
    "### Create a combined file from several .npz files"
   ]
  },
  {
   "cell_type": "code",
   "execution_count": null,
   "metadata": {
    "scrolled": true
   },
   "outputs": [],
   "source": [
    "npz_dir = \"/home/amenkara/PETALO_dnns/dnn/\"\n",
    "\n",
    "# input/output files\n",
    "\n",
    "files = glob(npz_dir + '*.npz')\n",
    "\n",
    "files = sorted(files)\n",
    "print(files)\n",
    "\n",
    "out_file = \"combined_file_15_january.npz\"\n",
    "\n",
    "X_    = []\n",
    "Compt_= []\n",
    "Ev_   = []\n",
    "\n",
    "\n",
    "for f in files:\n",
    "\n",
    "    fn = np.load(f)\n",
    "    \n",
    "    if(len(X_) == 0):\n",
    "        X_     = fn['images']\n",
    "        Compt_ =  fn['labels']\n",
    "        Ev_    =  fn['event_number']\n",
    "    else:\n",
    "        X_     = np.concatenate((X_,     fn['images'])      )\n",
    "        Compt_ = np.concatenate((Compt_, fn['labels'])      ) \n",
    "        Ev_    = np.concatenate((Ev_,    fn['event_number']))\n",
    "    \n",
    "print(\"Saving combined file\")\n",
    "np.savez(out_file, X_=X_, Compt_=Compt_, Ev_=Ev_)"
   ]
  },
  {
   "cell_type": "markdown",
   "metadata": {},
   "source": [
    "### Load the data from the dataset"
   ]
  },
  {
   "cell_type": "code",
   "execution_count": 2,
   "metadata": {},
   "outputs": [],
   "source": [
    "out_file = \"combined_file_15_january.npz\""
   ]
  },
  {
   "cell_type": "code",
   "execution_count": 3,
   "metadata": {},
   "outputs": [],
   "source": [
    "data = np.load(out_file)\n",
    "X_, Compt_, Ev_ = data['X_'],data['Compt_'], data['Ev_']"
   ]
  },
  {
   "cell_type": "code",
   "execution_count": 4,
   "metadata": {},
   "outputs": [
    {
     "data": {
      "text/plain": [
       "24561"
      ]
     },
     "execution_count": 4,
     "metadata": {},
     "output_type": "execute_result"
    }
   ],
   "source": [
    "len(X_)"
   ]
  },
  {
   "cell_type": "markdown",
   "metadata": {},
   "source": [
    "### Separate train, validation and test set"
   ]
  },
  {
   "cell_type": "code",
   "execution_count": 5,
   "metadata": {},
   "outputs": [],
   "source": [
    "train_cut = int(0.8*len(X_))\n",
    "val_cut   = int(0.9*len(X_))\n",
    "\n",
    "X_train      = X_[:train_cut]\n",
    "X_val        = X_[train_cut:val_cut] \n",
    "X_test       = X_[val_cut:]\n",
    "\n",
    "Compt_train  =  Compt_[:train_cut]\n",
    "Compt_val    =  Compt_[train_cut:val_cut]\n",
    "Compt_test   =  Compt_[val_cut:]"
   ]
  },
  {
   "cell_type": "markdown",
   "metadata": {},
   "source": [
    "### Define the model"
   ]
  },
  {
   "cell_type": "code",
   "execution_count": 99,
   "metadata": {},
   "outputs": [],
   "source": [
    "K.clear_session()"
   ]
  },
  {
   "cell_type": "code",
   "execution_count": 78,
   "metadata": {},
   "outputs": [],
   "source": [
    "def model_CNN(inputs):\n",
    "    initial = \"random_uniform\"\n",
    "    #el 32 implica que hay 32 filtros de 5x5\n",
    "    cinputs = Conv2D(96, (5, 5), padding='same', strides=(2, 2), activation='relu', kernel_initializer=initial, kernel_regularizer=regularizers.l1(0.01),  activity_regularizer=regularizers.l1(0.01))(inputs)\n",
    "    cinputs = AveragePooling2D(pool_size=(2, 2), data_format=None, padding=\"same\", strides=(2, 2))(cinputs)\n",
    "    cinputs = BatchNormalization(epsilon=1e-05, axis=3, momentum=0.99, weights=None, beta_initializer='zero', gamma_initializer='one', gamma_regularizer=None, beta_regularizer=None)(cinputs)\n",
    "    cinputs = Conv2D(192, (3, 3), padding='same', strides=(1, 1), activation='relu', kernel_initializer=initial, kernel_regularizer=regularizers.l1(0.01),  activity_regularizer=regularizers.l1(0.01))(cinputs)\n",
    "    cinputs = Dropout(.2)(cinputs)\n",
    "    cinputs = BatchNormalization(epsilon=1e-05, axis=3, momentum=0.99, weights=None, beta_initializer='zero', gamma_initializer='one', gamma_regularizer=None, beta_regularizer=None)(cinputs)\n",
    "    cinputs = AveragePooling2D(pool_size=(2, 2), data_format=None, padding=\"same\", strides=(2, 2))(cinputs)\n",
    "    cinputs = Conv2D(384, (2, 2), padding='same', strides=(1, 1), activation='relu', kernel_initializer=initial, kernel_regularizer=regularizers.l1(0.01), activity_regularizer=regularizers.l1(0.01))(cinputs)\n",
    "    cinputs = Dropout(.2)(cinputs)\n",
    "    cinputs = BatchNormalization(epsilon=1e-05, axis=3, momentum=0.99, weights=None, beta_initializer='zero', gamma_initializer='one', gamma_regularizer=None, beta_regularizer=None)(cinputs)\n",
    "    cinputs = AveragePooling2D(pool_size=(2, 2), data_format=None, padding=\"same\", strides=(2, 2))(cinputs)\n",
    "    \n",
    "    f1 = Flatten()(cinputs)\n",
    "    f1 = Dense(units=64, activation='relu', kernel_initializer=initial)(f1)\n",
    "    #f1 = Dropout(.2)(f1)\n",
    "\n",
    "    inc_output = Dense(units=1, activation='sigmoid', kernel_initializer=initial)(f1)\n",
    "    \n",
    "    model = Model(inputs, inc_output)\n",
    "    \n",
    "    model.compile(loss='binary_crossentropy',\n",
    "                      optimizer=Nadam(lr=0.0001, beta_1=0.9, beta_2=0.999,\n",
    "                                      epsilon=1e-08, schedule_decay=0.001), metrics=['accuracy'])\n",
    "    \n",
    "    return model"
   ]
  },
  {
   "cell_type": "code",
   "execution_count": 100,
   "metadata": {},
   "outputs": [],
   "source": [
    "def model_test(inputs):\n",
    "    cinputs = Conv2D(96, (5, 5))(inputs)\n",
    "    cinputs = Dense(32)(cinputs)\n",
    "    internal = Dense(32)(cinputs)\n",
    "    internal = Flatten()(internal)\n",
    "    output = Dense(1, activation='sigmoid')(internal)\n",
    "    \n",
    "    model = Model(inputs, output)\n",
    "    \n",
    "    model.compile(loss='binary_crossentropy', optimizer=Nadam(lr=0.002, beta_1=0.9, beta_2=0.999, epsilon=None, schedule_decay=0.004))\n",
    "    return model"
   ]
  },
  {
   "cell_type": "code",
   "execution_count": 101,
   "metadata": {},
   "outputs": [],
   "source": [
    "dim     = 30\n",
    "\n",
    "input_  = Input((dim,dim,1))\n",
    "model   = model_test(input_)"
   ]
  },
  {
   "cell_type": "code",
   "execution_count": 102,
   "metadata": {},
   "outputs": [
    {
     "name": "stdout",
     "output_type": "stream",
     "text": [
      "_________________________________________________________________\n",
      "Layer (type)                 Output Shape              Param #   \n",
      "=================================================================\n",
      "input_1 (InputLayer)         (None, 30, 30, 1)         0         \n",
      "_________________________________________________________________\n",
      "conv2d_1 (Conv2D)            (None, 26, 26, 96)        2496      \n",
      "_________________________________________________________________\n",
      "dense_1 (Dense)              (None, 26, 26, 32)        3104      \n",
      "_________________________________________________________________\n",
      "dense_2 (Dense)              (None, 26, 26, 32)        1056      \n",
      "_________________________________________________________________\n",
      "flatten_1 (Flatten)          (None, 21632)             0         \n",
      "_________________________________________________________________\n",
      "dense_3 (Dense)              (None, 1)                 21633     \n",
      "=================================================================\n",
      "Total params: 28,289\n",
      "Trainable params: 28,289\n",
      "Non-trainable params: 0\n",
      "_________________________________________________________________\n"
     ]
    }
   ],
   "source": [
    "model.summary()"
   ]
  },
  {
   "cell_type": "code",
   "execution_count": 49,
   "metadata": {},
   "outputs": [],
   "source": [
    "tboard = callbacks.TensorBoard(log_dir='./logs/combined_files_16_january_relu', histogram_freq=0, write_graph=True, write_images=False)"
   ]
  },
  {
   "cell_type": "markdown",
   "metadata": {},
   "source": [
    "### Training"
   ]
  },
  {
   "cell_type": "code",
   "execution_count": 103,
   "metadata": {},
   "outputs": [
    {
     "name": "stdout",
     "output_type": "stream",
     "text": [
      "Train on 19648 samples, validate on 2456 samples\n",
      "Epoch 1/1\n",
      "19648/19648 [==============================] - 15s 772us/step - loss: 0.6209 - val_loss: 0.6158\n"
     ]
    },
    {
     "data": {
      "text/plain": [
       "<keras.callbacks.History at 0x7f045c7faa90>"
      ]
     },
     "execution_count": 103,
     "metadata": {},
     "output_type": "execute_result"
    }
   ],
   "source": [
    "model.fit(X_train, Compt_train, batch_size=18, epochs=1, shuffle=True, callbacks=[tboard],verbose=1, validation_data=(X_val, Compt_val))"
   ]
  },
  {
   "cell_type": "code",
   "execution_count": 11,
   "metadata": {},
   "outputs": [],
   "source": [
    "model.save('model_conv2d_16_january_last_layer_activation_is_relu.h5')"
   ]
  },
  {
   "cell_type": "code",
   "execution_count": 26,
   "metadata": {},
   "outputs": [],
   "source": [
    "loaded_model = load_model('model_conv2d_16_january.h5')"
   ]
  },
  {
   "cell_type": "code",
   "execution_count": 104,
   "metadata": {},
   "outputs": [
    {
     "name": "stdout",
     "output_type": "stream",
     "text": [
      "2457/2457 [==============================] - 1s 291us/step\n"
     ]
    }
   ],
   "source": [
    "prediction = model.predict(X_test, batch_size=18, verbose=1)"
   ]
  },
  {
   "cell_type": "code",
   "execution_count": 105,
   "metadata": {},
   "outputs": [
    {
     "name": "stdout",
     "output_type": "stream",
     "text": [
      "[[0.6651584 ]\n",
      " [0.61720735]\n",
      " [0.66559213]\n",
      " [0.6395261 ]\n",
      " [0.66168976]\n",
      " [0.6297166 ]\n",
      " [0.6659271 ]\n",
      " [0.66038036]\n",
      " [0.6620611 ]\n",
      " [0.66171694]\n",
      " [0.6880801 ]\n",
      " [0.6741651 ]\n",
      " [0.6608642 ]\n",
      " [0.6634508 ]\n",
      " [0.66951734]\n",
      " [0.62039405]\n",
      " [0.663626  ]\n",
      " [0.66710883]\n",
      " [0.6698348 ]\n",
      " [0.6378188 ]\n",
      " [0.6668746 ]\n",
      " [0.6646208 ]\n",
      " [0.683938  ]\n",
      " [0.65236354]\n",
      " [0.66071075]\n",
      " [0.65450114]\n",
      " [0.66001374]\n",
      " [0.6261461 ]\n",
      " [0.65842605]\n",
      " [0.6332646 ]\n",
      " [0.63533473]\n",
      " [0.6598323 ]\n",
      " [0.6556044 ]\n",
      " [0.65787894]\n",
      " [0.6567627 ]\n",
      " [0.6401634 ]\n",
      " [0.68798864]\n",
      " [0.65681374]\n",
      " [0.6450932 ]\n",
      " [0.66518235]\n",
      " [0.66268796]\n",
      " [0.62239456]\n",
      " [0.6508017 ]\n",
      " [0.65789723]\n",
      " [0.6654121 ]\n",
      " [0.6562228 ]\n",
      " [0.66111267]\n",
      " [0.68263507]\n",
      " [0.64777625]\n",
      " [0.6600907 ]\n",
      " [0.66183233]\n",
      " [0.64968926]\n",
      " [0.6691289 ]\n",
      " [0.6635079 ]\n",
      " [0.6716137 ]\n",
      " [0.64486307]\n",
      " [0.63430965]\n",
      " [0.649767  ]\n",
      " [0.6539066 ]\n",
      " [0.62046796]\n",
      " [0.6641039 ]\n",
      " [0.651376  ]\n",
      " [0.6767648 ]\n",
      " [0.66293347]\n",
      " [0.6506183 ]\n",
      " [0.6393618 ]\n",
      " [0.6509482 ]\n",
      " [0.66011363]\n",
      " [0.6611381 ]\n",
      " [0.66840756]\n",
      " [0.65233064]\n",
      " [0.67248255]\n",
      " [0.69213206]\n",
      " [0.6148763 ]\n",
      " [0.6348322 ]\n",
      " [0.6432823 ]\n",
      " [0.68053186]\n",
      " [0.65656054]\n",
      " [0.66149557]\n",
      " [0.6277759 ]\n",
      " [0.6630288 ]\n",
      " [0.65117276]\n",
      " [0.6328685 ]\n",
      " [0.6616987 ]\n",
      " [0.65162057]\n",
      " [0.65847003]\n",
      " [0.6763266 ]\n",
      " [0.653145  ]\n",
      " [0.65350354]\n",
      " [0.6480995 ]\n",
      " [0.63817495]\n",
      " [0.66620684]\n",
      " [0.63875204]\n",
      " [0.6472627 ]\n",
      " [0.6205099 ]\n",
      " [0.66075367]\n",
      " [0.6436685 ]\n",
      " [0.65483814]\n",
      " [0.6569618 ]\n",
      " [0.67917764]\n",
      " [0.6468258 ]\n",
      " [0.66524416]\n",
      " [0.66155064]\n",
      " [0.62460464]\n",
      " [0.6545915 ]\n",
      " [0.6300983 ]\n",
      " [0.6211177 ]\n",
      " [0.66151834]\n",
      " [0.671878  ]\n",
      " [0.658858  ]\n",
      " [0.6600287 ]\n",
      " [0.6529736 ]\n",
      " [0.6594568 ]\n",
      " [0.6632381 ]\n",
      " [0.6428658 ]\n",
      " [0.6704477 ]\n",
      " [0.6217938 ]\n",
      " [0.66073716]\n",
      " [0.65857214]\n",
      " [0.63975495]\n",
      " [0.6408056 ]\n",
      " [0.65978175]\n",
      " [0.6316736 ]\n",
      " [0.6850474 ]\n",
      " [0.5841883 ]\n",
      " [0.6597131 ]\n",
      " [0.6465737 ]\n",
      " [0.6557452 ]\n",
      " [0.6590857 ]\n",
      " [0.6625684 ]\n",
      " [0.65454346]\n",
      " [0.69171643]\n",
      " [0.66097844]\n",
      " [0.6397493 ]\n",
      " [0.6620647 ]\n",
      " [0.65645707]\n",
      " [0.66228175]\n",
      " [0.6519377 ]\n",
      " [0.65124726]\n",
      " [0.64476883]\n",
      " [0.6603329 ]\n",
      " [0.6629549 ]\n",
      " [0.6467241 ]\n",
      " [0.652674  ]\n",
      " [0.65187234]\n",
      " [0.66253483]\n",
      " [0.6775389 ]\n",
      " [0.65879726]\n",
      " [0.6625966 ]\n",
      " [0.6624487 ]\n",
      " [0.66186714]\n",
      " [0.664032  ]\n",
      " [0.6653403 ]\n",
      " [0.6770767 ]\n",
      " [0.62874085]\n",
      " [0.65937525]\n",
      " [0.6735772 ]\n",
      " [0.6591368 ]\n",
      " [0.659497  ]\n",
      " [0.67567265]\n",
      " [0.6507723 ]\n",
      " [0.6538491 ]\n",
      " [0.6602092 ]\n",
      " [0.65361905]\n",
      " [0.6906909 ]\n",
      " [0.64668643]\n",
      " [0.65023375]\n",
      " [0.66531384]\n",
      " [0.65662074]\n",
      " [0.64241624]\n",
      " [0.650974  ]\n",
      " [0.6536593 ]\n",
      " [0.65599537]\n",
      " [0.6659729 ]\n",
      " [0.5933828 ]\n",
      " [0.65256125]\n",
      " [0.6417844 ]\n",
      " [0.64281386]\n",
      " [0.6648629 ]\n",
      " [0.63936955]\n",
      " [0.6233629 ]\n",
      " [0.6656655 ]\n",
      " [0.6584356 ]\n",
      " [0.66658103]\n",
      " [0.6643931 ]\n",
      " [0.662451  ]\n",
      " [0.66360956]\n",
      " [0.67982876]\n",
      " [0.6757469 ]\n",
      " [0.65807027]\n",
      " [0.65159494]\n",
      " [0.6699574 ]\n",
      " [0.6533455 ]\n",
      " [0.6465401 ]\n",
      " [0.6706365 ]\n",
      " [0.6650674 ]\n",
      " [0.6563197 ]\n",
      " [0.63882405]\n",
      " [0.64939684]\n",
      " [0.6573568 ]\n",
      " [0.63268906]\n",
      " [0.68534225]\n",
      " [0.61680377]\n",
      " [0.65672445]\n",
      " [0.6755397 ]\n",
      " [0.6625126 ]\n",
      " [0.674022  ]\n",
      " [0.6563439 ]\n",
      " [0.66028565]\n",
      " [0.6607801 ]\n",
      " [0.65983105]\n",
      " [0.6406425 ]\n",
      " [0.672652  ]\n",
      " [0.6610264 ]\n",
      " [0.6574505 ]\n",
      " [0.66327685]\n",
      " [0.6599674 ]\n",
      " [0.6654991 ]\n",
      " [0.6601111 ]\n",
      " [0.6342983 ]\n",
      " [0.6741512 ]\n",
      " [0.6181662 ]\n",
      " [0.6752366 ]\n",
      " [0.67749923]\n",
      " [0.65149385]\n",
      " [0.637732  ]\n",
      " [0.6624888 ]\n",
      " [0.66547894]\n",
      " [0.65114737]\n",
      " [0.63381326]\n",
      " [0.6544084 ]\n",
      " [0.65949005]\n",
      " [0.6494711 ]\n",
      " [0.65922433]\n",
      " [0.6396244 ]\n",
      " [0.6368107 ]\n",
      " [0.660267  ]\n",
      " [0.6655542 ]\n",
      " [0.64759743]\n",
      " [0.64736253]\n",
      " [0.65912443]\n",
      " [0.62043285]\n",
      " [0.6732762 ]\n",
      " [0.6543144 ]\n",
      " [0.66120225]\n",
      " [0.63703907]\n",
      " [0.66190875]\n",
      " [0.64097834]\n",
      " [0.6648456 ]\n",
      " [0.66707987]\n",
      " [0.6612108 ]\n",
      " [0.659902  ]\n",
      " [0.6725181 ]\n",
      " [0.61004484]\n",
      " [0.6751682 ]\n",
      " [0.641604  ]\n",
      " [0.6540641 ]\n",
      " [0.6793519 ]\n",
      " [0.6604862 ]\n",
      " [0.6814833 ]\n",
      " [0.6537939 ]\n",
      " [0.66595256]\n",
      " [0.65971994]\n",
      " [0.6569943 ]\n",
      " [0.66331524]\n",
      " [0.664093  ]\n",
      " [0.6661063 ]\n",
      " [0.6589257 ]\n",
      " [0.6549308 ]\n",
      " [0.658511  ]\n",
      " [0.6109106 ]\n",
      " [0.6337642 ]\n",
      " [0.66479206]\n",
      " [0.6686163 ]\n",
      " [0.6694796 ]\n",
      " [0.6205842 ]\n",
      " [0.6430215 ]\n",
      " [0.6805952 ]\n",
      " [0.6622519 ]\n",
      " [0.66037446]\n",
      " [0.6734523 ]\n",
      " [0.65645033]\n",
      " [0.65135825]\n",
      " [0.648481  ]\n",
      " [0.6432889 ]\n",
      " [0.6573786 ]\n",
      " [0.65351874]\n",
      " [0.6357347 ]\n",
      " [0.6833943 ]\n",
      " [0.6410806 ]\n",
      " [0.5936055 ]\n",
      " [0.6586207 ]\n",
      " [0.65650827]\n",
      " [0.6896167 ]\n",
      " [0.62887204]\n",
      " [0.6247095 ]\n",
      " [0.65861076]\n",
      " [0.67665565]\n",
      " [0.65524703]\n",
      " [0.6881625 ]]\n"
     ]
    }
   ],
   "source": [
    "print(prediction[0:300])"
   ]
  },
  {
   "cell_type": "code",
   "execution_count": null,
   "metadata": {},
   "outputs": [],
   "source": [
    "#Cut is the accuracy. \n",
    "def plot_result(cut):\n",
    "elements = []\n",
    "for element in prediction:\n",
    "    if element > cut:\n",
    "        elements.append(0)\n",
    "    else:\n",
    "        elements.append(1)\n",
    "        \n",
    "    aciertos = 0\n",
    "    total = len(elements)\n",
    "    for i in range(total):\n",
    "        if elements[i]== Compt_test[i]:\n",
    "            aciertos += 1\n",
    "        \n",
    "    print(aciertos)    \n",
    "    return aciertos/total"
   ]
  },
  {
   "cell_type": "code",
   "execution_count": null,
   "metadata": {},
   "outputs": [],
   "source": [
    "matrix = []\n",
    "for i in range(500, 1000):\n",
    "    matrix.append([i/1000., plot_result(i/1000.)])\n",
    "        "
   ]
  },
  {
   "cell_type": "code",
   "execution_count": null,
   "metadata": {},
   "outputs": [],
   "source": [
    "np.transpose(matrix)[1]"
   ]
  },
  {
   "cell_type": "code",
   "execution_count": null,
   "metadata": {},
   "outputs": [],
   "source": [
    "plt.plot(np.transpose(matrix)[0][:], np.transpose(matrix)[1][:])"
   ]
  }
 ],
 "metadata": {
  "kernelspec": {
   "display_name": "Python 3",
   "language": "python",
   "name": "python3"
  },
  "language_info": {
   "codemirror_mode": {
    "name": "ipython",
    "version": 3
   },
   "file_extension": ".py",
   "mimetype": "text/x-python",
   "name": "python",
   "nbconvert_exporter": "python",
   "pygments_lexer": "ipython3",
   "version": "3.6.6"
  }
 },
 "nbformat": 4,
 "nbformat_minor": 2
}
