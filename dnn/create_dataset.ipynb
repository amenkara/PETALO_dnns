{
 "cells": [
  {
   "cell_type": "code",
   "execution_count": 1,
   "metadata": {},
   "outputs": [],
   "source": [
    "import os, re\n",
    "import math\n",
    "\n",
    "import numpy                   as np\n",
    "import tables                  as tb\n",
    "import matplotlib.pyplot       as plt\n",
    "\n",
    "from   invisible_cities.io                import mcinfo_io\n",
    "from   antea.io                           import mc_io\n",
    "\n",
    "from   invisible_cities.core              import system_of_units as units\n",
    "from   invisible_cities.evm.event_model   import Waveform\n",
    "from   invisible_cities.io.mcinfo_io      import units_dict\n",
    "\n",
    "from   typing                             import Mapping\n"
   ]
  },
  {
   "cell_type": "code",
   "execution_count": 2,
   "metadata": {},
   "outputs": [],
   "source": [
    "COMPTON = 1\n",
    "PHOTOELECTRIC = 0"
   ]
  },
  {
   "cell_type": "code",
   "execution_count": 3,
   "metadata": {},
   "outputs": [],
   "source": [
    "dirname='/home/adriana/Petalo_dnn/data/'\n",
    "files = os.listdir(dirname)\n",
    "input_file= dirname + files[0]"
   ]
  },
  {
   "cell_type": "code",
   "execution_count": 4,
   "metadata": {},
   "outputs": [],
   "source": [
    "def get_evt_energy(table):\n",
    "    \"\"\"Returns dictionary containing the energy of each event \"\"\"\n",
    "    \n",
    "    energies_table   =  table.root.MC.events.read()\n",
    "    keys             =  energies_table['evt_number']\n",
    "    vals             =  energies_table['evt_energy']\n",
    "    energy_dict      =  dict(zip(keys,vals))\n",
    "    \n",
    "    return  energy_dict\n",
    "\n",
    "\n",
    "\n",
    "def get_pos_dict(table):\n",
    "    \"\"\"Returns dictionary of sensor_id: [x,y,z] \"\"\"\n",
    "    \n",
    "    positions_table  =  table.root.MC.sensor_positions.read()\n",
    "    keys             =  positions_table['sensor_id']\n",
    "    vals             =  np.stack([positions_table['x'],positions_table['y'],positions_table['z']],axis=1)\n",
    "    pos_dict         =  dict(zip(keys,vals))\n",
    "    \n",
    "    return pos_dict"
   ]
  },
  {
   "cell_type": "code",
   "execution_count": 5,
   "metadata": {},
   "outputs": [],
   "source": [
    "def isphoto(event, event_energy):\n",
    "    photoelectric = False\n",
    "    \n",
    "    if ((event_energy > 0.510) & (event_energy < 0.512)):\n",
    "        for _, part in event.items():\n",
    "            if part.name == 'e-' :\n",
    "                mother = event[part.mother_indx]\n",
    "                if part.initial_volume == 'ACTIVE' and part.final_volume == 'ACTIVE':\n",
    "                    if np.isclose(sum(h.E for h in part.hits), 0.476443, atol=1.e-6):\n",
    "                        if np.isclose(mother.E*1000., 510.999, atol=1.e-3) and mother.primary:\n",
    "                            photoelectric = True\n",
    "                        \n",
    "    if photoelectric == True:\n",
    "        return True\n",
    "    else:\n",
    "        return False\n",
    "    \n",
    "    \n",
    "def iscompton(event, event_energy):\n",
    "    \n",
    "    compton = False\n",
    "    if ((event_energy > 0.510) & (event_energy < 0.512)):\n",
    "        for _, part in event.items():\n",
    "            if part.name == 'e-' :\n",
    "                mother = event[part.mother_indx]\n",
    "                if part.initial_volume == 'ACTIVE' and part.final_volume == 'ACTIVE':\n",
    "                    if np.isclose(mother.E*1000., 510.999, atol=1.e-3) and mother.primary:\n",
    "                        if(part.process == 'compt'):\n",
    "                            compton = True\n",
    "    if compton == True:\n",
    "        return True\n",
    "    else:\n",
    "        return False"
   ]
  },
  {
   "cell_type": "code",
   "execution_count": 6,
   "metadata": {},
   "outputs": [],
   "source": [
    "def labeling(event, energy):\n",
    "    if iscompton(event, energy) == True:\n",
    "        return COMPTON\n",
    "    elif isphoto(event, energy) == True:\n",
    "        return PHOTOELECTRIC\n",
    "    else:\n",
    "        return \"None\""
   ]
  },
  {
   "cell_type": "code",
   "execution_count": 7,
   "metadata": {},
   "outputs": [],
   "source": [
    "def make_2d_image (waveforms, pos_dict, dimension_x=30, dimension_y=30, min_len=10):\n",
    "    \n",
    "    pos_and_char_of_sipm = []\n",
    "    \n",
    "    try:\n",
    "        for sipm in waveforms.keys():\n",
    "        #key error: algunos diccionarios estaban vacios.\n",
    "            if (len(waveforms[sipm].charges) == 0): \n",
    "                print('------------ The list is empty -------------')\n",
    "            else:\n",
    "                pos_and_char_of_sipm.append(np.append(pos_dict[sipm], waveforms[sipm].charges))\n",
    "                \n",
    "    except IndexError:\n",
    "        return pos_and_char_of_sipm\n",
    "    \n",
    "    \n",
    "    pos_and_char_of_sipm = np.asarray(pos_and_char_of_sipm)\n",
    "    \n",
    "    # at least 10 simp are lighted. \n",
    "    if len(pos_and_char_of_sipm)>min_len:\n",
    "    \n",
    "        # transform from cartesian to cilindric coordinates.\n",
    "        sipm_info=np.array(list(map(lambda sipm: [np.arctan2(sipm[1],sipm[0]),sipm[2],sipm[3]], pos_and_char_of_sipm))) \n",
    "            \n",
    "            \n",
    "        angle_sensors = sipm_info[:,0] # azimutal angle of the binning\n",
    "        z_sensors     = sipm_info[:,1] # z position\n",
    "        q_sensors     = sipm_info[:,2] # charges\n",
    "\n",
    "        #function of mathplotlib making the 2d-histogram\n",
    "        myimage, _, _, _ = plt.hist2d(angle_sensors, z_sensors, bins=[30,30], weights=q_sensors)\n",
    "            \n",
    "    return myimage"
   ]
  },
  {
   "cell_type": "code",
   "execution_count": 8,
   "metadata": {},
   "outputs": [],
   "source": [
    "def get_images_with_labels(mcinfo, en_dict, waveforms, pos_dict):\n",
    "    \n",
    "    image_array = []\n",
    "    label_array = []\n",
    "    event_number_array = []\n",
    "    \n",
    "    for keys in mcinfo.keys():\n",
    "        \n",
    "        if labeling(mcinfo[keys], en_dict[keys]) is not \"None\":\n",
    "            image = make_2d_image(waveforms[keys], pos_dict)\n",
    "            label = labeling(mcinfo[keys], en_dict[keys])\n",
    "            event_number   = np.array(keys)\n",
    "            \n",
    "            normalized_image = np.array(image/image.sum())\n",
    "            \n",
    "            label_array.append(label)\n",
    "            image_array.append(normalized_image)\n",
    "            event_number_array.append(event_number)\n",
    "      \n",
    "    label_array = np.array(label_array)\n",
    "    image_array = np.array(image_array)\n",
    "    image_array = np.reshape (image_array, (image_array.shape[0], image_array.shape[1], image_array.shape[2],1))\n",
    "    event_number_array = np.array(event_number_array)\n",
    "                                  \n",
    "    return label_array, image_array, event_number_array"
   ]
  },
  {
   "cell_type": "code",
   "execution_count": 9,
   "metadata": {},
   "outputs": [],
   "source": [
    "mytable = tb.open_file(input_file,mode='r')"
   ]
  },
  {
   "cell_type": "code",
   "execution_count": 10,
   "metadata": {},
   "outputs": [
    {
     "name": "stdout",
     "output_type": "stream",
     "text": [
      "---------------------read mytable-------------------------\n",
      "---------------------read waveforms-------------------------\n"
     ]
    }
   ],
   "source": [
    "print('---------------------read mytable-------------------------')\n",
    "mcinfo     = mcinfo_io.read_mcinfo(mytable)\n",
    "pos_dict   = get_pos_dict(mytable)\n",
    "en_dict    =  get_evt_energy(mytable)\n",
    "\n",
    "print('---------------------read waveforms-------------------------')\n",
    "waveforms = mc_io.read_mcsns_response(input_file)"
   ]
  },
  {
   "cell_type": "code",
   "execution_count": 11,
   "metadata": {},
   "outputs": [
    {
     "data": {
      "image/png": "[encoded data removed]",
      "text/plain": [
       "<Figure size 432x288 with 1 Axes>"
      ]
     },
     "metadata": {
      "needs_background": "light"
     },
     "output_type": "display_data"
    }
   ],
   "source": [
    "labels, images, events = get_images_with_labels(mcinfo, en_dict, waveforms, pos_dict)\n",
    "training_set_test=\"training_set_test_should_be_right_072_accuracy.npz\"\n",
    "np.savez_compressed(training_set_test, labels=labels, images=images, event_number= events)"
   ]
  },
  {
   "cell_type": "code",
   "execution_count": null,
   "metadata": {},
   "outputs": [],
   "source": []
  }
 ],
 "metadata": {
  "kernelspec": {
   "display_name": "Python 3",
   "language": "python",
   "name": "python3"
  },
  "language_info": {
   "codemirror_mode": {
    "name": "ipython",
    "version": 3
   },
   "file_extension": ".py",
   "mimetype": "text/x-python",
   "name": "python",
   "nbconvert_exporter": "python",
   "pygments_lexer": "ipython3",
   "version": "3.6.6"
  }
 },
 "nbformat": 4,
 "nbformat_minor": 2
}
